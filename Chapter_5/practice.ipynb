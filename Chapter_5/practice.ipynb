{
 "cells": [
  {
   "cell_type": "code",
   "execution_count": 3,
   "metadata": {},
   "outputs": [],
   "source": [
    "### 1. On the python website, find a builtin module. Describe and show examples of some of the useful functions in the module and how they might be utilized by us."
   ]
  },
  {
   "cell_type": "code",
   "execution_count": 5,
   "metadata": {},
   "outputs": [
    {
     "data": {
      "text/plain": [
       "'words'"
      ]
     },
     "execution_count": 5,
     "metadata": {},
     "output_type": "execute_result"
    }
   ],
   "source": [
    "import re # regular expression \n",
    "my_string = 'This is my string which contains words and numbers like 123'\n",
    "new_string = re.search('words', my_string)\n",
    "new_string.group() # the matching text "
   ]
  },
  {
   "cell_type": "code",
   "execution_count": 6,
   "metadata": {},
   "outputs": [
    {
     "name": "stdout",
     "output_type": "stream",
     "text": [
      "words\n"
     ]
    }
   ],
   "source": [
    "print(new_string.group())"
   ]
  },
  {
   "cell_type": "code",
   "execution_count": 7,
   "metadata": {},
   "outputs": [
    {
     "name": "stdout",
     "output_type": "stream",
     "text": [
      "words\n"
     ]
    }
   ],
   "source": [
    "# Start and end in the string\n",
    "\n",
    "start = new_string.start()\n",
    "end = new_string.end()\n",
    "print(my_string[start:end])"
   ]
  },
  {
   "cell_type": "code",
   "execution_count": 8,
   "metadata": {},
   "outputs": [
    {
     "name": "stdout",
     "output_type": "stream",
     "text": [
      "my string which\n"
     ]
    }
   ],
   "source": [
    "# Match ambiguous strings next two words after 'my'\n",
    "\n",
    "new_string = re.search('my \\w+ \\w+', my_string)\n",
    "print(new_string.group())"
   ]
  },
  {
   "cell_type": "code",
   "execution_count": 9,
   "metadata": {},
   "outputs": [
    {
     "name": "stdout",
     "output_type": "stream",
     "text": [
      "['This', 'is', 'contains', 'words', 'numbers']\n"
     ]
    }
   ],
   "source": [
    "# Find all words which end in 's' in a string\n",
    "\n",
    "s = re.findall('\\w+s', my_string)\n",
    "print(s)"
   ]
  },
  {
   "cell_type": "code",
   "execution_count": 10,
   "metadata": {},
   "outputs": [
    {
     "name": "stdout",
     "output_type": "stream",
     "text": [
      "This\n",
      "is\n",
      "my\n",
      "string\n",
      "which\n",
      "contains\n",
      "words\n",
      "and\n",
      "numbers\n",
      "like\n",
      "123\n"
     ]
    }
   ],
   "source": [
    "# Replace characters with new characters\n",
    "\n",
    "new_string = re.sub(' ', '\\n' , my_string)\n",
    "new_string\n",
    "print(new_string)"
   ]
  },
  {
   "cell_type": "code",
   "execution_count": 11,
   "metadata": {},
   "outputs": [
    {
     "name": "stdout",
     "output_type": "stream",
     "text": [
      "10\n"
     ]
    }
   ],
   "source": [
    "# Count occurences of substitutions\n",
    "\n",
    "new_string = re.subn(' ', '\\n' , my_string)\n",
    "new_string\n",
    "print(new_string[1])"
   ]
  },
  {
   "cell_type": "code",
   "execution_count": 12,
   "metadata": {},
   "outputs": [],
   "source": [
    "### 2. Write a class called \"Organism\". Have the class initialize with the organism's complete taxonomic lineage (KPCOFGS) and common name. Write methods which allow a user to see these values in informative ways."
   ]
  },
  {
   "cell_type": "code",
   "execution_count": 4,
   "metadata": {},
   "outputs": [],
   "source": [
    "class Organism:\n",
    "    def __init__(self,\n",
    "                 K = '??',\n",
    "                 P = '??',\n",
    "                 C = '??',\n",
    "                 O = '??',\n",
    "                 F = '??',\n",
    "                 G = '??',\n",
    "                 S = '??',\n",
    "                 N = '??'):\n",
    "        self.K = K\n",
    "        self.P = P\n",
    "        self.C = C\n",
    "        self.O = O\n",
    "        self.F = F\n",
    "        self.G = G\n",
    "        self.S = S\n",
    "        self.N = N\n",
    "        for i in self.__dict__.keys(): # ? \n",
    "            if self.__dict__[i] == '??':\n",
    "                 print('No value provided for: ', i)\n",
    "\n",
    "    def description(self): # ? \n",
    "        print('Access the lineage values of the organism using the first \\\n",
    "letters in\\nKingdom, Phylum, Class, Order, Family, Genus, Species, and Name \\\n",
    "(KPCOFGSN)\\nLonger descriptions can also be accessed.\\n\\\n",
    "Examples: object.K, object.full(), and object.short()')\n",
    "\n",
    "    def full(self): # method? \n",
    "        print(self.N, '\\'s full name description:\\n',\n",
    "              'Kingdom = ', self.K, \"\\n\",\n",
    "              'Phylum = ', self.P, \"\\n\",\n",
    "              'Class = ', self.C, \"\\n\",\n",
    "              'Order = ', self.O, \"\\n\",\n",
    "              'Family = ', self.F, \"\\n\",\n",
    "              'Genus = ', self.G, \"\\n\",\n",
    "              'Species = ', self.S, sep = \"\")\n",
    "\n",
    "    def short(self):\n",
    "        print(self.N, '\\'s short name description:\\n',\n",
    "              self.G, ' ', self.S.lower(), sep = \"\")"
   ]
  },
  {
   "cell_type": "code",
   "execution_count": null,
   "metadata": {},
   "outputs": [],
   "source": [
    "### Problem 3 Demonstrate inheritance by importing your class \"Organism\" from problem 2. Use it to create a new class called \"LongOrganism\" which inherits \"Organism\" and modifies it by adding any other attributes that may be significant about an organism (ie ploidy, genome size, region). Write new methods which allow a user to see these values in informative ways."
   ]
  },
  {
   "cell_type": "code",
   "execution_count": 17,
   "metadata": {},
   "outputs": [],
   "source": [
    "import os\n",
    "\n",
    "os.chdir(\"/Users/ruijuanli/Desktop/2018_summer/Pithon_Ruijuan.L/Chapter_5/\")"
   ]
  },
  {
   "cell_type": "code",
   "execution_count": 18,
   "metadata": {},
   "outputs": [
    {
     "name": "stdout",
     "output_type": "stream",
     "text": [
      "This module allows you to create an organism class. It expects Kingdom Phylum, Class, Order, Family, Genus, Species, Common Name, Region, Size, and Ploidy in that order\n"
     ]
    }
   ],
   "source": [
    "from Problem_2 import Organism\n",
    "\n",
    "print('This module allows you to create an organism class. It expects Kingdom\\\n",
    " Phylum, Class, Order, Family, Genus, Species, Common Name, Region, Size, and \\\n",
    "Ploidy in that order')\n",
    "      \n",
    "class LongOrganism(Organism): # inherit? \n",
    "    def __init__(self,\n",
    "                 K = '??',\n",
    "                 P = '??',\n",
    "                 C = '??',\n",
    "                 O = '??',\n",
    "                 F = '??',\n",
    "                 G = '??',\n",
    "                 S = '??',\n",
    "                 N = '??',\n",
    "                 Region = '??',\n",
    "                 Size = '??',\n",
    "                 Ploidy = '??'):\n",
    "        self.Region = Region\n",
    "        try: ### don't understand \n",
    "            self.Ploidy = int(Ploidy)\n",
    "        except ValueError:\n",
    "            self.Ploidy = Ploidy\n",
    "            print('Ploidy must be numeric')\n",
    "        try:\n",
    "            self.Size = int(Size)\n",
    "        except ValueError:\n",
    "            self.Size = Size\n",
    "            print('Size must be numeric and is in Mb')\n",
    "        Organism.__init__(self,K,P,C,O,F,G,S,N) # why this? \n",
    "\n",
    "    def genome(self): # new method to see genome ploidy level and size \n",
    "        print(self.N, '\\'s genome description:\\n',\n",
    "              'Ploidy = ', self.Ploidy, 'n\\n',\n",
    "              'Genome Size = ', self.Size, ' Mb', sep = '')\n",
    "\n",
    "    def region(self): # new method to see region, what is region \n",
    "        print(self.N, '\\'s region description:\\n',\n",
    "              'Region = ', self.Region, sep = '')\n",
    "\n",
    "        \n",
    "    def full(self):\n",
    "        Organism.full(self) # ??? \n",
    "        self.genome()\n",
    "        self.region()\n",
    "\n",
    "    def description(self):\n",
    "        Organism.description(self)\n",
    "        print('Genome information can be acccessed using\\n',\n",
    "              'object.genome(), object.Ploidy and object.Size\\n',\n",
    "              'Region information can be acccessed using\\n',\n",
    "              'object.region() and object.Region', sep = '')"
   ]
  },
  {
   "cell_type": "code",
   "execution_count": null,
   "metadata": {},
   "outputs": [],
   "source": [
    "### Problem 4 Write a function which allows a user to compare and/or contrast two instances of your class \"LongOrganism\""
   ]
  },
  {
   "cell_type": "code",
   "execution_count": 19,
   "metadata": {},
   "outputs": [],
   "source": [
    "def OrganismCompare(organism1, organism2, comparison = 'full'):\n",
    "    name1 = type(organism1).__name__ # ????\n",
    "    name2 = type(organism2).__name__\n",
    "    if name1 != 'LongOrganism' or name2 != 'LongOrganism':\n",
    "        print('One of the two input organisms was not of class LongOrganism')\n",
    "        return\n",
    "\n",
    "    if comparison == 'lineage' or comparison == 'full':\n",
    "        lines = ['K','P','C','O','F','G','S','N']\n",
    "        lines_dict = {'K' : 'kingdom', 'P' : 'phylum',\n",
    "                     'C' : 'class', 'O' : 'order',\n",
    "                     'F' : 'family', 'G' : 'genus',\n",
    "                     'S' : 'species', 'N' : 'name'}\n",
    "        same = ''\n",
    "        i = 0\n",
    "        while i < len(lines):\n",
    "            if getattr(organism1, lines[i]) != getattr(organism2, lines[i]):\n",
    "                break\n",
    "            i += 1\n",
    "        if i == 0:\n",
    "            print(organism1.N, 'and', organism2.N, 'belong to different kingdoms')\n",
    "        elif i == len(lines):\n",
    "            print(organism1.N, 'and', organism2.N, 'are the same')\n",
    "        elif i == len(lines) - 1:\n",
    "            print(organism1.N, 'and', organism2.N, 'are the same species with different names')\n",
    "        else:\n",
    "            print(organism1.N, 'and', organism2.N, 'share the same', end = ' ')\n",
    "            for x in range(i):\n",
    "                if x != i - 1:\n",
    "                    print(lines_dict.get(lines[x]), end = ', ')\n",
    "                else:\n",
    "                    print('and ', lines_dict.get(lines[x]), '.', sep = '')\n",
    "\n",
    "    if comparison == 'genetic' or comparison == 'full':\n",
    "        if organism1.Ploidy == organism2.Ploidy:\n",
    "            print(organism1.N, ' and ',\n",
    "                  organism2.N, ' have the same ploidy: ',\n",
    "                  organism1.Ploidy, 'n', sep = '')\n",
    "        else:\n",
    "            print(organism1.N, 'and', organism2.N, 'have different ploidy')\n",
    "            print(organism1.N, ' has a ploidy of ',\n",
    "                  organism1.Ploidy, 'n', sep = '')\n",
    "            print(organism2.N, ' has a ploidy of ',\n",
    "                  organism2.Ploidy, 'n', sep = '')\n",
    "        if organism1.Size == organism2.Size:\n",
    "            print(organism1.N, ' and ', organism2.N,\n",
    "                  ' have the same genome size: ',\n",
    "                  organism1.Size, 'Mb', sep = '')\n",
    "        else:\n",
    "            if organism1.Size > organism2.Size:\n",
    "                print(organism1.N, ' has a genome size of ',\n",
    "                      organism1.Size, 'Mb which is greater than ',\n",
    "                      organism2.N, '\\'s genome size of ', organism2.Size,\n",
    "                      'Mb.', sep = '')\n",
    "            else:\n",
    "                print(organism2.N, ' has a genome size of ',\n",
    "                      organism2.Size, 'Mb which is greater than ',\n",
    "                      organism1.N, '\\'s genome size of ', organism1.Size,\n",
    "                      'Mb.', sep = '')\n",
    "    if comparison == 'region' or comparison == 'full':\n",
    "        if organism1.Region == organism2.Region:\n",
    "            print(organism1.N, 'and', organism2.N, 'have the same region:',\n",
    "                  organism1.Region)\n",
    "        else:\n",
    "            print(organism1.N, 'and', organism2.N,\n",
    "                  ' have the different regions,', organism1.N,\n",
    "                  'is from', organism1.Region, 'while', organism2.N,\n",
    "                  'is from', organism2.Region)\n",
    "    return"
   ]
  },
  {
   "cell_type": "code",
   "execution_count": null,
   "metadata": {},
   "outputs": [],
   "source": [
    "### Problem 5 Import your class and function from problems 3 and 4. Demonstrate using them together"
   ]
  },
  {
   "cell_type": "code",
   "execution_count": 42,
   "metadata": {},
   "outputs": [],
   "source": [
    "from Problem_3 import LongOrganism\n",
    "from Problem_4 import OrganismCompare\n",
    "\n",
    "plant1 = ('Plantae', 'Tracheophyta', 'Magnoliopsida', 'Brassicales',\n",
    "         'Brassicaceae', 'Brassica', 'Napus', 'DaAe', 'Asia', 1120, 4)\n",
    "\n",
    "plant2 = ('Plantae', 'Tracheophyta', 'Magnoliopsida', 'Brassicales',\n",
    "         'Brassicaceae', 'Brassica', 'Napus', 'DaOl', 'Asia', 1120, 4)\n",
    "\n",
    "plant3 = ('Plantae', 'Tracheophyta', 'Magnoliopsida', 'Brassicales',\n",
    "         'Brassicaceae', 'Brassica', 'Rapa', 'Rapa', 'Asia', 485, 2)"
   ]
  },
  {
   "cell_type": "code",
   "execution_count": 45,
   "metadata": {},
   "outputs": [
    {
     "name": "stdout",
     "output_type": "stream",
     "text": [
      "\n"
     ]
    }
   ],
   "source": [
    "A = LongOrganism(*plant1) # why *, unpacking tuples \n",
    "B = LongOrganism(*plant2)\n",
    "C = LongOrganism(*plant3)\n",
    "\n",
    "print() # why print? "
   ]
  },
  {
   "cell_type": "code",
   "execution_count": 35,
   "metadata": {},
   "outputs": [
    {
     "name": "stdout",
     "output_type": "stream",
     "text": [
      "Looking at organism A\n",
      "DaAe's full name description:\n",
      "Kingdom = Plantae\n",
      "Phylum = Tracheophyta\n",
      "Class = Magnoliopsida\n",
      "Order = Brassicales\n",
      "Family = Brassicaceae\n",
      "Genus = Brassica\n",
      "Species = Napus\n",
      "DaAe's genome description:\n",
      "Ploidy = 4n\n",
      "Genome Size = 1120 Mb\n",
      "DaAe's region description:\n",
      "Region = Asia\n"
     ]
    }
   ],
   "source": [
    "print('Looking at organism A')\n",
    "A.full() # full method "
   ]
  },
  {
   "cell_type": "code",
   "execution_count": 29,
   "metadata": {},
   "outputs": [
    {
     "name": "stdout",
     "output_type": "stream",
     "text": [
      "\n"
     ]
    }
   ],
   "source": [
    "print()"
   ]
  },
  {
   "cell_type": "code",
   "execution_count": 30,
   "metadata": {},
   "outputs": [
    {
     "name": "stdout",
     "output_type": "stream",
     "text": [
      "Looking at organism C\n",
      "Rapa's full name description:\n",
      "Kingdom = Plantae\n",
      "Phylum = Tracheophyta\n",
      "Class = Magnoliopsida\n",
      "Order = Brassicales\n",
      "Family = Brassicaceae\n",
      "Genus = Brassica\n",
      "Species = Rapa\n",
      "Rapa's genome description:\n",
      "Ploidy = 2n\n",
      "Genome Size = 485 Mb\n",
      "Rapa's region description:\n",
      "Region = Asia\n",
      "\n"
     ]
    }
   ],
   "source": [
    "print('Looking at organism C')\n",
    "C.full()\n",
    "\n",
    "print()"
   ]
  },
  {
   "cell_type": "code",
   "execution_count": 36,
   "metadata": {},
   "outputs": [
    {
     "name": "stdout",
     "output_type": "stream",
     "text": [
      "Compare all between A and C\n",
      "DaAe and Rapa share the same kingdom, phylum, class, order, family, and genus.\n",
      "DaAe and Rapa have different ploidy\n",
      "DaAe has a ploidy of 4n\n",
      "Rapa has a ploidy of 2n\n",
      "DaAe has a genome size of 1120Mb which is greater than Rapa's genome size of 485Mb.\n",
      "DaAe and Rapa have the same region: Asia\n"
     ]
    }
   ],
   "source": [
    "print('Compare all between A and C')\n",
    "OrganismCompare(A, C)"
   ]
  },
  {
   "cell_type": "code",
   "execution_count": 37,
   "metadata": {},
   "outputs": [
    {
     "name": "stdout",
     "output_type": "stream",
     "text": [
      "Compare lineages of A and B\n",
      "DaAe and DaOl are the same species with different names\n"
     ]
    }
   ],
   "source": [
    "print('Compare lineages of A and B')\n",
    "OrganismCompare(A, B, 'lineage')  "
   ]
  },
  {
   "cell_type": "code",
   "execution_count": 33,
   "metadata": {},
   "outputs": [
    {
     "name": "stdout",
     "output_type": "stream",
     "text": [
      "Compare genetics of B and C\n",
      "DaOl and Rapa have different ploidy\n",
      "DaOl has a ploidy of 4n\n",
      "Rapa has a ploidy of 2n\n",
      "DaOl has a genome size of 1120Mb which is greater than Rapa's genome size of 485Mb.\n"
     ]
    }
   ],
   "source": [
    "print('Compare genetics of B and C')\n",
    "OrganismCompare(B, C, 'genetic')"
   ]
  },
  {
   "cell_type": "code",
   "execution_count": null,
   "metadata": {},
   "outputs": [],
   "source": []
  }
 ],
 "metadata": {
  "kernelspec": {
   "display_name": "Python 3",
   "language": "python",
   "name": "python3"
  },
  "language_info": {
   "codemirror_mode": {
    "name": "ipython",
    "version": 3
   },
   "file_extension": ".py",
   "mimetype": "text/x-python",
   "name": "python",
   "nbconvert_exporter": "python",
   "pygments_lexer": "ipython3",
   "version": "3.6.5"
  }
 },
 "nbformat": 4,
 "nbformat_minor": 2
}
