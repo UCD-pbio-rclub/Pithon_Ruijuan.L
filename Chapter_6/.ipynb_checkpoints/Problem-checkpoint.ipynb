{
 "cells": [
  {
   "cell_type": "code",
   "execution_count": 5,
   "metadata": {},
   "outputs": [],
   "source": [
    "# 1. Write a function that reports the number of sequences in a fasta file"
   ]
  },
  {
   "cell_type": "code",
   "execution_count": 9,
   "metadata": {},
   "outputs": [
    {
     "data": {
      "text/plain": [
       "250"
      ]
     },
     "execution_count": 9,
     "metadata": {},
     "output_type": "execute_result"
    }
   ],
   "source": [
    "import os\n",
    "os.chdir(\"/Users/ruijuanli/Desktop/2018_summer/Pithon_Ruijuan.L/Chapter_6/\")\n",
    "\n",
    "fa_file = 'SP1.fa'\n",
    "\n",
    "def fa_len(fa_file):\n",
    "    with open(fa_file) as f: # this way we don't need to close the file again \n",
    "        line_count = 0\n",
    "        for line in f:\n",
    "            if line.startswith('>'):\n",
    "                line_count = line_count + 1\n",
    "    return(line_count) # can be problematic because sometimes seq can run across several lines \n",
    "\n",
    "fa_len(fa_file)"
   ]
  },
  {
   "cell_type": "code",
   "execution_count": 10,
   "metadata": {},
   "outputs": [],
   "source": [
    "# 2. Write a function that reports the number of sequences in a fastq file"
   ]
  },
  {
   "cell_type": "code",
   "execution_count": 46,
   "metadata": {},
   "outputs": [],
   "source": [
    "def fq_len(fq_file):\n",
    "    with open(fa_file) as f:\n",
    "        line_count = 0\n",
    "        for line in f:\n",
    "            line_count = line_count + 1\n",
    "    return(round(line_count/4))"
   ]
  },
  {
   "cell_type": "code",
   "execution_count": 12,
   "metadata": {},
   "outputs": [
    {
     "data": {
      "text/plain": [
       "125"
      ]
     },
     "execution_count": 12,
     "metadata": {},
     "output_type": "execute_result"
    }
   ],
   "source": [
    "fq_len(\"SP1.fq\")"
   ]
  },
  {
   "cell_type": "code",
   "execution_count": 13,
   "metadata": {},
   "outputs": [],
   "source": [
    "# 3. Modify one of your functions from problem 1 or 2 to work with a file stored on the internet. For example be able to load this file sample.fa"
   ]
  },
  {
   "cell_type": "code",
   "execution_count": 14,
   "metadata": {},
   "outputs": [
    {
     "name": "stdout",
     "output_type": "stream",
     "text": [
      ">derice\r\n",
      "ACTGACTAGCTAGCTAACTG\r\n",
      ">sanka\r\n",
      "GCATCGTAGCTAGCTACGAT\r\n",
      ">junior\r\n",
      "CATCGATCGTACGTACGTAG\r\n",
      ">yul\r\n",
      "ATCGATCGATCGTACGATCG\n"
     ]
    }
   ],
   "source": [
    "import urllib.request\n",
    "\n",
    "u = 'http://molb7621.github.io/workshop/_downloads/sample.fa'\n",
    "f = urllib.request.urlopen(u)\n",
    "contents = f.read().decode(\"utf-8\", \"ignore\")\n",
    "fa_file = print(contents)\n",
    "fa_file"
   ]
  },
  {
   "cell_type": "code",
   "execution_count": 15,
   "metadata": {},
   "outputs": [],
   "source": [
    "def fa_len_url(site):\n",
    "    u = site\n",
    "    f = urllib.request.urlopen(u)\n",
    "    fa_file = f.read().decode(\"utf-8\", \"ignore\")\n",
    "    line_count = 0\n",
    "    for line in fa_file:\n",
    "        if line.startswith('>'):\n",
    "            line_count = line_count + 1\n",
    "    return(line_count) # can be problematic because sometimes seq can run across several lines \n"
   ]
  },
  {
   "cell_type": "code",
   "execution_count": 16,
   "metadata": {},
   "outputs": [
    {
     "data": {
      "text/plain": [
       "4"
      ]
     },
     "execution_count": 16,
     "metadata": {},
     "output_type": "execute_result"
    }
   ],
   "source": [
    "site = 'http://molb7621.github.io/workshop/_downloads/sample.fa'\n",
    "fa_len_url(site)"
   ]
  },
  {
   "cell_type": "code",
   "execution_count": 17,
   "metadata": {},
   "outputs": [],
   "source": [
    "# 4. Write a function that converts a fastq file to a fasta file"
   ]
  },
  {
   "cell_type": "code",
   "execution_count": 18,
   "metadata": {},
   "outputs": [],
   "source": [
    "def fastq2fasta(input, output): # idea from Julin \n",
    "    with open(input, 'r') as f_in:\n",
    "        with open(output, 'w') as f_out:\n",
    "            count = 0\n",
    "            for line in f_in:\n",
    "                count+=1\n",
    "                if count % 4 == 1:\n",
    "                    line = line[1:] # get rid of the \"@\"\n",
    "                    f_out.write(\">\"+line)\n",
    "                elif count % 4 == 2: \n",
    "                    f_out.write(line)"
   ]
  },
  {
   "cell_type": "code",
   "execution_count": 32,
   "metadata": {},
   "outputs": [
    {
     "data": {
      "text/plain": [
       "True"
      ]
     },
     "execution_count": 32,
     "metadata": {},
     "output_type": "execute_result"
    }
   ],
   "source": [
    "fastq2fasta('SP1.fq', 'out.fa')\n",
    "import filecmp\n",
    "filecmp.cmp('out.fa', 'SP1.fa')"
   ]
  },
  {
   "cell_type": "code",
   "execution_count": 73,
   "metadata": {},
   "outputs": [],
   "source": [
    "# 5. Create an instance of your 'Organism' class from last week. Demonstrate pickling it to a file, and loading it from the file. Note: when opening the file you may need to add the 'b' option"
   ]
  },
  {
   "cell_type": "code",
   "execution_count": 33,
   "metadata": {},
   "outputs": [],
   "source": [
    "os.chdir(\"/Users/ruijuanli/Desktop/2018_summer/Pithon_Ruijuan.L/Chapter_5/\")"
   ]
  },
  {
   "cell_type": "code",
   "execution_count": 34,
   "metadata": {},
   "outputs": [],
   "source": [
    "from Problem_2 import Organism\n",
    "plant1 = ('Plantae', 'Tracheophyta', 'Magnoliopsida', 'Brassicales',\n",
    "         'Brassicaceae', 'Brassica', 'Napus', 'DaAe')"
   ]
  },
  {
   "cell_type": "code",
   "execution_count": 43,
   "metadata": {},
   "outputs": [],
   "source": [
    "A = Organism(*plant1) # unpacking tuples "
   ]
  },
  {
   "cell_type": "code",
   "execution_count": 44,
   "metadata": {},
   "outputs": [
    {
     "name": "stdout",
     "output_type": "stream",
     "text": [
      "DaAe's short name description:\n",
      "Brassica napus\n"
     ]
    }
   ],
   "source": [
    "import pickle\n",
    "A.short() "
   ]
  },
  {
   "cell_type": "code",
   "execution_count": 45,
   "metadata": {},
   "outputs": [
    {
     "name": "stdout",
     "output_type": "stream",
     "text": [
      "DaAe's short name description:\n",
      "Brassica napus\n"
     ]
    }
   ],
   "source": [
    "# from John \n",
    "with open('organism.pickle', 'wb') as f: # write mode, why organism.pickle? \n",
    "    pickle.dump(A, f)\n",
    "\n",
    "with open('organism.pickle', 'rb') as n: # read mode \n",
    "    B = pickle.load(n)\n",
    "\n",
    "B.short()"
   ]
  },
  {
   "cell_type": "code",
   "execution_count": null,
   "metadata": {},
   "outputs": [],
   "source": []
  }
 ],
 "metadata": {
  "kernelspec": {
   "display_name": "Python 3",
   "language": "python",
   "name": "python3"
  },
  "language_info": {
   "codemirror_mode": {
    "name": "ipython",
    "version": 3
   },
   "file_extension": ".py",
   "mimetype": "text/x-python",
   "name": "python",
   "nbconvert_exporter": "python",
   "pygments_lexer": "ipython3",
   "version": "3.6.5"
  }
 },
 "nbformat": 4,
 "nbformat_minor": 2
}
