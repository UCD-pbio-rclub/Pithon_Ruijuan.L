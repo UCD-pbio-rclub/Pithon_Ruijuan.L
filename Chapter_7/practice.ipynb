{
 "cells": [
  {
   "cell_type": "code",
   "execution_count": 4,
   "metadata": {},
   "outputs": [],
   "source": [
    "from tkinter import *\n",
    "root = Tk()\n",
    "Label(root, text = \"Hello World\").pack()\n",
    "root.mainloop()"
   ]
  },
  {
   "cell_type": "code",
   "execution_count": 8,
   "metadata": {},
   "outputs": [],
   "source": [
    "from tkinter import *\n",
    "\n",
    "class App:\n",
    "\n",
    "    def __init__(self, master):\n",
    "        frame = Frame(master)\n",
    "        frame.pack()\n",
    "        Label(frame, text='deg C').grid(row=0, column=0)\n",
    "        button = Button(frame, text='Convert', command=self.convert)\n",
    "        button.grid(row=1)\n",
    "\n",
    "    def convert(self):\n",
    "        print('Not implemented')\n",
    "\n",
    "root = Tk()\n",
    "root.wm_title('Temp Converter')\n",
    "app = App(root)\n",
    "root.mainloop()"
   ]
  },
  {
   "cell_type": "code",
   "execution_count": 11,
   "metadata": {},
   "outputs": [
    {
     "name": "stdout",
     "output_type": "stream",
     "text": [
      "Not implemented\n",
      "Not implemented\n",
      "Not implemented\n",
      "Not implemented\n",
      "Not implemented\n",
      "Not implemented\n",
      "Not implemented\n",
      "Not implemented\n",
      "Not implemented\n"
     ]
    }
   ],
   "source": [
    "from tkinter import *\n",
    "\n",
    "class App:\n",
    "\n",
    "    def __init__(self, master):\n",
    "        frame = Frame(master)\n",
    "        frame.pack()\n",
    "        Label(frame, text='deg C').grid(row=0, column=0)\n",
    "        self.c_var = DoubleVar() \n",
    "        Entry(frame, textvariable=self.c_var).grid(row=0, column=1)\n",
    "        Label(frame, text='deg F').grid(row=1, column=0)\n",
    "        self.result_var = DoubleVar()\n",
    "        Label(frame, textvariable=self.result_var).grid(row=1, column=1)\n",
    "        button = Button(frame, text='Convert', command=self.convert)\n",
    "        button.grid(row=2, columnspan=2)\n",
    "\n",
    "    def convert(self):\n",
    "        print('Not implemented')\n",
    "\n",
    "root = Tk()\n",
    "root.wm_title('Temp Converter')\n",
    "app = App(root)\n",
    "root.mainloop()"
   ]
  },
  {
   "cell_type": "code",
   "execution_count": 16,
   "metadata": {},
   "outputs": [],
   "source": [
    "from tkinter import *\n",
    "from converters import *\n",
    "\n",
    "class App:\n",
    "\n",
    "    def __init__(self, master):\n",
    "        self.t_conv = ScaleAndOffsetConverter('C', 'F', 1.8, 32)\n",
    "        frame = Frame(master)\n",
    "        frame.pack()\n",
    "        Label(frame, text='deg C').grid(row=0, column=0)\n",
    "        self.c_var = DoubleVar() \n",
    "        Entry(frame, textvariable=self.c_var).grid(row=0, column=1)\n",
    "        Label(frame, text='deg F').grid(row=1, column=0)\n",
    "        self.result_var = DoubleVar()\n",
    "        Label(frame, textvariable=self.result_var).grid(row=1, column=1)\n",
    "        button = Button(frame, text='Convert', command=self.convert)\n",
    "        button.grid(row=2, columnspan=2)\n",
    "\n",
    "    def convert(self):\n",
    "        c = self.c_var.get()\n",
    "        self.result_var.set(self.t_conv.convert(c))\n",
    "\n",
    "root = Tk()\n",
    "root.wm_title('Temp Converter')\n",
    "app = App(root)\n",
    "root.mainloop()"
   ]
  },
  {
   "cell_type": "code",
   "execution_count": 17,
   "metadata": {
    "collapsed": true
   },
   "outputs": [],
   "source": [
    "from tkinter import *\n",
    "\n",
    "class App:\n",
    "\n",
    "    def __init__(self, master):\n",
    "        frame = Frame(master)\n",
    "        frame.pack()\n",
    "        Label(frame, text='Label').grid(row=0, column=0)\n",
    "        Entry(frame, text='Entry').grid(row=0, column=1)\n",
    "        Button(frame, text='Button').grid(row=0, column=2)\n",
    "        check_var = StringVar()\n",
    "        check = Checkbutton(frame, text='Checkbutton', variable=check_var, onvalue='Y', offvalue='N')\n",
    "        check.grid(row=1, column=0)\n",
    "        #Listbox\n",
    "        listbox = Listbox(frame, height=3, selectmode=SINGLE)\n",
    "        for item in ['red', 'green', 'blue', 'yellow', 'pink']:\n",
    "            listbox.insert(END, item)\n",
    "        listbox.grid(row=1, column=1)\n",
    "        #Radiobutton set\n",
    "        radio_frame = Frame(frame)\n",
    "        radio_selection = StringVar()\n",
    "        b1 = Radiobutton(radio_frame, text='portrait',\n",
    "            variable=radio_selection, value='P')\n",
    "        b1.pack(side=LEFT)\n",
    "        b2 = Radiobutton(radio_frame, text='landscape',\n",
    "            variable=radio_selection, value='L')\n",
    "        b2.pack(side=LEFT)\n",
    "        radio_frame.grid(row=1, column=2)\n",
    "        #Scale\n",
    "        scale_var = IntVar()\n",
    "        Scale(frame, from_=1, to=10, orient=HORIZONTAL,\n",
    "              variable=scale_var).grid(row=2, column=0)\n",
    "        Label(frame, textvariable=scale_var,\n",
    "              font=(\"Helvetica\", 36)).grid(row=2, column=1)\n",
    "        #Message\n",
    "        message = Message(frame,\n",
    "              text='Multiline Message Area')\n",
    "        message.grid(row=2, column=2)\n",
    "        #Spinbox\n",
    "        Spinbox(frame, values=('a','b','c')).grid(row=3)\n",
    "root = Tk()\n",
    "root.wm_title('Kitchen Sink')\n",
    "app = App(root)\n",
    "root.mainloop()"
   ]
  },
  {
   "cell_type": "code",
   "execution_count": 18,
   "metadata": {
    "collapsed": true
   },
   "outputs": [],
   "source": [
    "from tkinter import *\n",
    "\n",
    "class App:\n",
    "\n",
    "    def __init__(self, master):\n",
    "        frame = Frame(master)\n",
    "        frame.pack(fill=BOTH, expand=1)\n",
    "        #Listbox\n",
    "        listbox = Listbox(frame)\n",
    "        for item in ['red', 'green', 'blue', 'yellow', 'pink']:\n",
    "            listbox.insert(END, item)\n",
    "        listbox.grid(row=0, column=0, sticky=W+E+N+S)\n",
    "\n",
    "        #Message\n",
    "        text = Text(frame, relief=SUNKEN)\n",
    "        text.grid(row=0, column=1, sticky=W+E+N+S)\n",
    "        text.insert(END, 'word ' * 100)\n",
    "        frame.columnconfigure(1, weight=1)\n",
    "        frame.rowconfigure(0, weight=1)\n",
    "root = Tk()\n",
    "app = App(root)\n",
    "root.geometry(\"400x300+0+0\")\n",
    "root.mainloop()"
   ]
  },
  {
   "cell_type": "code",
   "execution_count": 19,
   "metadata": {
    "collapsed": true
   },
   "outputs": [],
   "source": [
    "#07_07_scrolling.py\n",
    "\n",
    "from tkinter import *\n",
    "\n",
    "class App:\n",
    "\n",
    "    def __init__(self, master):\n",
    "        scrollbar = Scrollbar(master)\n",
    "        scrollbar.pack(side=RIGHT, fill=Y)\n",
    "        text = Text(master, yscrollcommand=scrollbar.set)\n",
    "        text.pack(side=LEFT, fill=BOTH)\n",
    "        text.insert(END, 'word ' * 1000)\n",
    "        scrollbar.config(command=text.yview)\n",
    "\n",
    "root = Tk()\n",
    "root.wm_title('Scrolling')\n",
    "app = App(root)\n",
    "root.mainloop()"
   ]
  },
  {
   "cell_type": "code",
   "execution_count": 20,
   "metadata": {
    "collapsed": true
   },
   "outputs": [],
   "source": [
    "#07_08_gen_dialogs.py\n",
    "\n",
    "from tkinter import *\n",
    "import tkinter.messagebox as mb\n",
    "\n",
    "class App:\n",
    "\n",
    "    def __init__(self, master):\n",
    "        b=Button(master, text='Press Me', command=self.info).pack()\n",
    "\n",
    "    def info(self):\n",
    "        mb.showinfo('Information', \"Please don't press that button again!\")\n",
    "\n",
    "root = Tk()\n",
    "app = App(root)\n",
    "root.mainloop()"
   ]
  },
  {
   "cell_type": "code",
   "execution_count": 23,
   "metadata": {},
   "outputs": [],
   "source": [
    "#07_09_color_chooser.py\n",
    "\n",
    "from tkinter import *\n",
    "import tkinter.colorchooser as cc\n",
    "\n",
    "class App:\n",
    "\n",
    "    def __init__(self, master):\n",
    "        b=Button(master, text='Color..', command=self.ask_color).pack()\n",
    "\n",
    "    def ask_color(self):\n",
    "        (rgb, hx) = cc.askcolor()\n",
    "        print(\"rgb=\" + str(rgb) + \" hx=\" + hx)\n",
    "\n",
    "root = Tk()\n",
    "app = App(root)\n",
    "root.mainloop()"
   ]
  },
  {
   "cell_type": "code",
   "execution_count": 25,
   "metadata": {
    "collapsed": true
   },
   "outputs": [],
   "source": [
    "from tkinter import *\n",
    "\n",
    "class App:\n",
    "\n",
    "    def __init__(self, master):\n",
    "        self.entry_text = StringVar()\n",
    "        Entry(master, textvariable=self.entry_text).pack()\n",
    "\n",
    "        menubar = Menu(root)\n",
    "\n",
    "        filemenu = Menu(menubar, tearoff=0)\n",
    "        filemenu.add_command(label='Quit', command=exit)\n",
    "        menubar.add_cascade(label='File', menu=filemenu)\n",
    "\n",
    "        editmenu = Menu(menubar, tearoff=0)\n",
    "        editmenu.add_command(label='Fill', command=self.fill)\n",
    "        menubar.add_cascade(label='Edit', menu=editmenu)\n",
    "\n",
    "        master.config(menu=menubar)\n",
    "\n",
    "    def fill(self):\n",
    "        self.entry_text.set('abc')\n",
    "\n",
    "root = Tk()\n",
    "app = App(root)\n",
    "\n",
    "root.mainloop()"
   ]
  },
  {
   "cell_type": "code",
   "execution_count": 26,
   "metadata": {
    "collapsed": true
   },
   "outputs": [],
   "source": [
    "#07_11_canvas.py\n",
    "\n",
    "from tkinter import *\n",
    "\n",
    "class App:\n",
    "\n",
    "    def __init__(self, master):\n",
    "        canvas = Canvas(master, width=400, height=200)\n",
    "        canvas.pack()\n",
    "        canvas.create_rectangle(20, 20, 300, 100, fill='blue')\n",
    "        canvas.create_oval(30, 50, 290, 190, fill='#ff2277')\n",
    "        canvas.create_line(0, 0, 400, 200, fill='black', width=5)\n",
    "root = Tk()\n",
    "app = App(root)\n",
    "root.mainloop()"
   ]
  },
  {
   "cell_type": "code",
   "execution_count": null,
   "metadata": {
    "collapsed": true
   },
   "outputs": [],
   "source": []
  }
 ],
 "metadata": {
  "kernelspec": {
   "display_name": "Python 3",
   "language": "python",
   "name": "python3"
  },
  "language_info": {
   "codemirror_mode": {
    "name": "ipython",
    "version": 2
   },
   "file_extension": ".py",
   "mimetype": "text/x-python",
   "name": "python",
   "nbconvert_exporter": "python",
   "pygments_lexer": "ipython2",
   "version": "2.7.13"
  }
 },
 "nbformat": 4,
 "nbformat_minor": 2
}
